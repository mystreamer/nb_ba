{
 "cells": [
  {
   "cell_type": "markdown",
   "id": "0c11fa51",
   "metadata": {},
   "source": [
    "## TestSGF1\n",
    "\n",
    "The goal of this notebook attempts to check the correctness of the Sentiment Graph F1 evaluation script."
   ]
  },
  {
   "cell_type": "code",
   "execution_count": 25,
   "id": "2268aa6e",
   "metadata": {},
   "outputs": [],
   "source": [
    "import os, sys, json"
   ]
  },
  {
   "cell_type": "code",
   "execution_count": 26,
   "id": "0744f044",
   "metadata": {},
   "outputs": [],
   "source": [
    "# makedirs if not exist\n",
    "os.makedirs(\"../../etl/data/processed/TestSGF1\", exist_ok=True)"
   ]
  },
  {
   "cell_type": "code",
   "execution_count": 27,
   "id": "75b7a4bd",
   "metadata": {},
   "outputs": [],
   "source": [
    "GOLD_PATH=\"../../etl/data/processed/TestSGF1/ds_gold.json\"\n",
    "MAN_PATH=\"../../etl/data/processed/TestSGF1/ds_man.json\""
   ]
  },
  {
   "cell_type": "code",
   "execution_count": 28,
   "id": "1b3c4141",
   "metadata": {},
   "outputs": [],
   "source": [
    "def save_dict_as_json(dict_data, filename):\n",
    "    with open(filename, 'w') as f:\n",
    "        json.dump(dict_data, f)"
   ]
  },
  {
   "cell_type": "code",
   "execution_count": 29,
   "id": "45f5af31",
   "metadata": {},
   "outputs": [],
   "source": [
    "test_ds_gold = [{'sent_id': '0',\n",
    "  'text': 'Oshkosh geniesst den Ausblick auf den Genfersee .',\n",
    "  'opinions': [{'Source': [['Oshkosh'], ['0:7']],\n",
    "    'Polar_expression': [['geniesst'], ['8:16']],\n",
    "    'Target': [['Ausblick'], ['21:29']],\n",
    "    'Polarity': 'Positive',\n",
    "    'Intensity': 'Average'}]},\n",
    " {'sent_id': '1',\n",
    "  'text': 'Die Opposition will den Unmut ausnutzen und am nächsten Samstag eine weitere Kundgebung durchführen .',\n",
    "  'opinions': [{'Source': [['Opposition'], ['4:14']],\n",
    "    'Target': [['Unmut'], ['24:29']],\n",
    "    'Polar_expression': [['ausnutzen'], ['30:39']],\n",
    "    'Polarity': 'Negative',\n",
    "    'Intensity': 'Average'}]},\n",
    " {'sent_id': '2',\n",
    "  'text': 'Deutsches Laisser-faire dagegen verträgt sich nicht mit der politischen und ökonomischen Realität .',\n",
    "  'opinions': [{'Source': [['Laisser-faire'], ['10:23']],\n",
    "    'Polar_expression': [['verträgt'], ['32:40']],\n",
    "    'Target': [['Realität'], ['89:97']],\n",
    "    'Polarity': 'Negative',\n",
    "    'Intensity': 'Average'}]},\n",
    " {'sent_id': '3',\n",
    "  'text': 'Ihr geistiger Vater Valentin Oehen tritt heute tatsächlich an Versammlungen der rechtsextremen Partei National Orientierter Schweizer auf ; gleichzeitig klagt er , die Grünliberalen hätten seine Ideen geklaut .',\n",
    "  'opinions': [{'Source': [['Grünliberalen'], ['168:181']],\n",
    "    'Target': [['Ideen'], ['195:200']],\n",
    "    'Polar_expression': [['geklaut'], ['201:208']],\n",
    "    'Polarity': 'Neutral',\n",
    "    'Intensity': 'Average'}]},\n",
    "]"
   ]
  },
  {
   "cell_type": "code",
   "execution_count": 30,
   "id": "c80946fe",
   "metadata": {},
   "outputs": [],
   "source": [
    "import copy\n",
    "\n",
    "def copy_list(ds_list):\n",
    "    return copy.deepcopy(ds_list)\n",
    "\n",
    "def save_two_files(ds_gold, ds_mod):\n",
    "    save_dict_as_json(ds_gold, GOLD_PATH)\n",
    "    save_dict_as_json(ds_mod, MAN_PATH)"
   ]
  },
  {
   "cell_type": "markdown",
   "id": "8cc4dea4",
   "metadata": {},
   "source": [
    "### Test 1, alternate on the expressions\n",
    "\n",
    "Something strange appears to happen when the spans do not align propery, resp. if they go beyond a word, then the score increases strangely."
   ]
  },
  {
   "cell_type": "code",
   "execution_count": 112,
   "id": "7600cf40",
   "metadata": {
    "scrolled": true
   },
   "outputs": [],
   "source": [
    "# \n",
    "test_ds_t1 = copy_list(test_ds_gold)\n",
    "\n",
    "# test1 -> s-f1: .75, t-f1: 1, e-f1: 1, st-measures: 75\n",
    "\n",
    "# test_ds_t1[0][\"opinions\"][0][\"Source\"] = [['Ausblick'], ['21:29']]\n",
    "#test_ds_t1[1][\"opinions\"][0][\"Source\"] = [['Unmut'], ['24:29']]\n",
    "#test_ds_t1[2][\"opinions\"][0][\"Source\"] = [['Realität'], ['89:97']]\n",
    "#test_ds_t1[3][\"opinions\"][0][\"Source\"] = [['Ideen'], ['195:200']]\n",
    "\n",
    "# test2 \n",
    "# unlabeled SF1 should be higher, than not labeled\n",
    "\n",
    "# test_ds_t1[2][\"opinions\"][0][\"Polarity\"] = \"Positive\"\n",
    "\n",
    "# test3\n",
    "# remove an opinion\n",
    "# test_ds_t1[1][\"opinions\"] = []\n",
    "\n",
    "# test4\n",
    "# remove and entire sentence -> should raise an error, not allowed!\n",
    "# test_ds_t1.pop(0)\n",
    "\n",
    "# test5\n",
    "# different sentences -> tuple score decreases, but ste scores unaffected?!\n",
    "# since it is only evaluated one-on-one (per-tuple)?!\n",
    "test_ds_t1[1][\"text\"] = \"abcd\"\n",
    "\n",
    "# test6\n",
    "# swapped IDs\n",
    "temp_id = test_ds_t1[1][\"sent_id\"]\n",
    "test_ds_t1[1][\"sent_id\"] = test_ds_t1[2][\"sent_id\"]\n",
    "test_ds_t1[2][\"sent_id\"] = temp_id\n",
    "\n",
    "\n",
    "save_two_files(test_ds_gold, test_ds_t1)"
   ]
  },
  {
   "cell_type": "code",
   "execution_count": 113,
   "id": "b69fc16a",
   "metadata": {},
   "outputs": [],
   "source": [
    "# test_ds_t1"
   ]
  },
  {
   "cell_type": "code",
   "execution_count": 114,
   "id": "c8ed63bf",
   "metadata": {},
   "outputs": [
    {
     "name": "stdout",
     "output_type": "stream",
     "text": [
      "Source F1: 1.000\r\n",
      "Target F1: 1.000\r\n",
      "Expression F1: 1.000\r\n",
      "Unlabeled Sentiment Tuple F1: 0.500\r\n",
      "Sentiment Tuple F1: 0.500\r\n",
      "{\r\n",
      "  \"source/f1\": 0.9999992500003125,\r\n",
      "  \"target/f1\": 0.9999992500003125,\r\n",
      "  \"expression/f1\": 0.9999992500003125,\r\n",
      "  \"sentiment_tuple/unlabeled_f1\": 0.5,\r\n",
      "  \"sentiment_tuple/precision\": 0.5,\r\n",
      "  \"sentiment_tuple/recall\": 0.5,\r\n",
      "  \"sentiment_tuple/f1\": 0.5\r\n",
      "}\r\n",
      "\r\n",
      "[0.9999992500003125, 0.9999992500003125, 0.9999992500003125, 0.5, 0.5, 0.5, 0.5]\r\n"
     ]
    }
   ],
   "source": [
    "\n",
    "!(source ~/envs/perin-venv/bin/activate && cd ../../external_repos/direct_parsing_to_sent_graph/evaluation && python evaluate_single_dataset.py ../../../etl/data/processed/TestSGF1/ds_gold.json ../../../etl/data/processed/TestSGF1/ds_man.json)\n"
   ]
  },
  {
   "cell_type": "code",
   "execution_count": null,
   "id": "272fb554",
   "metadata": {},
   "outputs": [],
   "source": []
  }
 ],
 "metadata": {
  "kernelspec": {
   "display_name": "Python 3 (ipykernel)",
   "language": "python",
   "name": "python3"
  },
  "language_info": {
   "codemirror_mode": {
    "name": "ipython",
    "version": 3
   },
   "file_extension": ".py",
   "mimetype": "text/x-python",
   "name": "python",
   "nbconvert_exporter": "python",
   "pygments_lexer": "ipython3",
   "version": "3.10.10"
  }
 },
 "nbformat": 4,
 "nbformat_minor": 5
}
